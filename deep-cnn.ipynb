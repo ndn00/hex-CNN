{
  "cells": [
    {
      "cell_type": "code",
      "execution_count": 38,
      "metadata": {
        "colab": {
          "base_uri": "https://localhost:8080/"
        },
        "id": "y2CCQbnSXk1Y",
        "outputId": "2586e672-fd3b-4dc2-d353-582eea1d4993"
      },
      "outputs": [
        {
          "output_type": "stream",
          "name": "stdout",
          "text": [
            "Drive already mounted at /content/gdrive; to attempt to forcibly remount, call drive.mount(\"/content/gdrive\", force_remount=True).\n"
          ]
        }
      ],
      "source": [
        "from google.colab import drive\n",
        "\n",
        "drive.mount('/content/gdrive')"
      ]
    },
    {
      "cell_type": "code",
      "execution_count": 2,
      "metadata": {
        "colab": {
          "base_uri": "https://localhost:8080/"
        },
        "id": "EYWxZrJdXtRW",
        "outputId": "f6ee3edd-df7d-4404-b9e6-758608823d37"
      },
      "outputs": [
        {
          "output_type": "stream",
          "name": "stdout",
          "text": [
            "/content/gdrive/.shortcut-targets-by-id/1lAu0zBEWtPcALcBQIX-Letf0HRnuPJJX/Code/302\n",
            "/content/gdrive/.shortcut-targets-by-id/1lAu0zBEWtPcALcBQIX-Letf0HRnuPJJX/Code/302\n"
          ]
        }
      ],
      "source": [
        "%cd /content/gdrive/My \\Drive/Code/302\n",
        "!pwd"
      ]
    },
    {
      "cell_type": "code",
      "execution_count": 3,
      "metadata": {
        "id": "HGUO7wNBX31y"
      },
      "outputs": [],
      "source": [
        "import random\n",
        "import sys\n",
        "\n",
        "import pickle\n",
        "import numpy as np\n",
        "import pandas as pd\n",
        "import matplotlib.pyplot as plt\n",
        "import tensorflow as tf\n",
        "from tensorflow.keras import layers, utils, models\n",
        "from hex import *\n",
        "import util\n",
        "import move_evaluator\n",
        "import move_generator"
      ]
    },
    {
      "cell_type": "markdown",
      "source": [
        "## Get data"
      ],
      "metadata": {
        "id": "bI3lQXGiF8DY"
      }
    },
    {
      "cell_type": "code",
      "execution_count": 4,
      "metadata": {
        "id": "tnSkAQPNX9QO"
      },
      "outputs": [],
      "source": [
        "# data = pd.read_csv(\"./state_action.csv\")\n",
        "games = pd.read_csv(\"./finaldataframe.csv\")"
      ]
    },
    {
      "cell_type": "code",
      "execution_count": 5,
      "metadata": {
        "colab": {
          "base_uri": "https://localhost:8080/"
        },
        "id": "e5x_kkXeKnJK",
        "outputId": "ceafc584-b356-4306-8d28-680a458c26b3"
      },
      "outputs": [
        {
          "output_type": "execute_result",
          "data": {
            "text/plain": [
              "(45446, 8)"
            ]
          },
          "metadata": {},
          "execution_count": 5
        }
      ],
      "source": [
        "games.shape"
      ]
    },
    {
      "cell_type": "code",
      "source": [
        "(games['black_rating'].mean()+games['white_rating'].mean())/2"
      ],
      "metadata": {
        "colab": {
          "base_uri": "https://localhost:8080/"
        },
        "id": "g9DMc2DdpxMl",
        "outputId": "33ee54ca-059f-42e6-8a0a-025a8bbe3843"
      },
      "execution_count": 6,
      "outputs": [
        {
          "output_type": "execute_result",
          "data": {
            "text/plain": [
              "1731.6187783303262"
            ]
          },
          "metadata": {},
          "execution_count": 6
        }
      ]
    },
    {
      "cell_type": "code",
      "source": [
        "games['black_rating'].hist()\n",
        "plt.xlabel('rating')\n",
        "plt.ylabel('number of games')"
      ],
      "metadata": {
        "colab": {
          "base_uri": "https://localhost:8080/",
          "height": 296
        },
        "id": "W-lqnFYeqQSp",
        "outputId": "aaae5b95-594b-4288-c76f-06412857f6aa"
      },
      "execution_count": 7,
      "outputs": [
        {
          "output_type": "execute_result",
          "data": {
            "text/plain": [
              "Text(0, 0.5, 'number of games')"
            ]
          },
          "metadata": {},
          "execution_count": 7
        },
        {
          "output_type": "display_data",
          "data": {
            "text/plain": [
              "<Figure size 432x288 with 1 Axes>"
            ],
            "image/png": "[encoded data removed]"
          },
          "metadata": {
            "needs_background": "light"
          }
        }
      ]
    },
    {
      "cell_type": "markdown",
      "source": [
        "## Preprocess data"
      ],
      "metadata": {
        "id": "fNSlgnRjGGqZ"
      }
    },
    {
      "cell_type": "code",
      "execution_count": 8,
      "metadata": {
        "colab": {
          "base_uri": "https://localhost:8080/"
        },
        "id": "2m550kdQYHav",
        "outputId": "2d4411d2-2d01-4301-db82-57ebf09e461c"
      },
      "outputs": [
        {
          "output_type": "stream",
          "name": "stdout",
          "text": [
            "23475\n"
          ]
        }
      ],
      "source": [
        "games = games[games[\"move_list\"].str.len() > 6]\n",
        "games = games[~games['move_list'].str.contains('*', regex=False)]\n",
        "print(len(games))\n",
        "\n",
        "boards, actions = util.makeInputOutputTotal(games[\"move_list\"].values,\n",
        "                                            scraped=True)\n",
        "\n",
        "boards = np.swapaxes(np.swapaxes(boards, 1, 2), 2, 3)"
      ]
    },
    {
      "cell_type": "code",
      "execution_count": 9,
      "metadata": {
        "colab": {
          "base_uri": "https://localhost:8080/"
        },
        "id": "mU1-1GgZqd_D",
        "outputId": "b3751fc8-e875-4b81-8261-6f3c6bc2dead"
      },
      "outputs": [
        {
          "output_type": "stream",
          "name": "stdout",
          "text": [
            "(808457, 17, 17, 2)\n"
          ]
        }
      ],
      "source": [
        "print(boards.shape)"
      ]
    },
    {
      "cell_type": "markdown",
      "source": [
        "## Model training"
      ],
      "metadata": {
        "id": "S0okJEHOGOXt"
      }
    },
    {
      "cell_type": "code",
      "execution_count": 10,
      "metadata": {
        "id": "dOoE4uvoX--x"
      },
      "outputs": [],
      "source": [
        "w = 128\n",
        "d = 5\n",
        "model = tf.keras.Sequential([\n",
        "    layers.Conv2D(w, kernel_size=(5, 5),\n",
        "                  activation='relu',\n",
        "                  input_shape=(17, 17, 2),\n",
        "                  padding=\"same\"\n",
        "                 )\n",
        "])\n",
        "for i in range(d-1):\n",
        "    model.add(layers.Conv2D(w, (3, 3), activation =\"relu\", padding=\"same\"))\n",
        "\n",
        "model.add(layers.Conv2D(1, (1, 1), activation = None, padding=\"same\"))\n",
        "model.add(layers.Flatten())\n",
        "model.add(layers.Dense(169, activation='softmax'))\n",
        "\n",
        "model.compile(loss=tf.keras.losses.categorical_crossentropy,\n",
        "              optimizer=tf.keras.optimizers.Adam(),\n",
        "              metrics=['accuracy']\n",
        "             )"
      ]
    },
    {
      "cell_type": "code",
      "source": [
        "model.summary()"
      ],
      "metadata": {
        "colab": {
          "base_uri": "https://localhost:8080/"
        },
        "id": "ddTmWaXE5lEf",
        "outputId": "cd9459e5-11fa-49f5-ec65-1342da726f51"
      },
      "execution_count": 13,
      "outputs": [
        {
          "output_type": "stream",
          "name": "stdout",
          "text": [
            "Model: \"sequential\"\n",
            "_________________________________________________________________\n",
            " Layer (type)                Output Shape              Param #   \n",
            "=================================================================\n",
            " conv2d (Conv2D)             (None, 17, 17, 128)       6528      \n",
            "                                                                 \n",
            " conv2d_1 (Conv2D)           (None, 17, 17, 128)       147584    \n",
            "                                                                 \n",
            " conv2d_2 (Conv2D)           (None, 17, 17, 128)       147584    \n",
            "                                                                 \n",
            " conv2d_3 (Conv2D)           (None, 17, 17, 128)       147584    \n",
            "                                                                 \n",
            " conv2d_4 (Conv2D)           (None, 17, 17, 128)       147584    \n",
            "                                                                 \n",
            " conv2d_5 (Conv2D)           (None, 17, 17, 1)         129       \n",
            "                                                                 \n",
            " flatten (Flatten)           (None, 289)               0         \n",
            "                                                                 \n",
            " dense (Dense)               (None, 169)               49010     \n",
            "                                                                 \n",
            "=================================================================\n",
            "Total params: 646,003\n",
            "Trainable params: 646,003\n",
            "Non-trainable params: 0\n",
            "_________________________________________________________________\n"
          ]
        }
      ]
    },
    {
      "cell_type": "code",
      "execution_count": 14,
      "metadata": {
        "id": "79zKBvGYYDvO",
        "colab": {
          "base_uri": "https://localhost:8080/"
        },
        "outputId": "fea4db66-405c-42e7-ee3c-88cc34be15a4"
      },
      "outputs": [
        {
          "output_type": "stream",
          "name": "stdout",
          "text": [
            "Epoch 1/20\n",
            "5685/5685 [==============================] - 111s 20ms/step - loss: 2.1703 - accuracy: 0.4622 - val_loss: 2.2534 - val_accuracy: 0.4482\n",
            "Epoch 2/20\n",
            "5685/5685 [==============================] - 111s 20ms/step - loss: 2.0737 - accuracy: 0.4807 - val_loss: 2.2345 - val_accuracy: 0.4523\n",
            "Epoch 3/20\n",
            "5685/5685 [==============================] - 111s 20ms/step - loss: 2.0081 - accuracy: 0.4926 - val_loss: 2.2291 - val_accuracy: 0.4505\n",
            "Epoch 4/20\n",
            "5685/5685 [==============================] - 111s 20ms/step - loss: 1.9556 - accuracy: 0.5024 - val_loss: 2.2835 - val_accuracy: 0.4500\n",
            "Epoch 5/20\n",
            "5685/5685 [==============================] - 111s 20ms/step - loss: 1.9120 - accuracy: 0.5104 - val_loss: 2.2657 - val_accuracy: 0.4449\n",
            "Epoch 6/20\n",
            "5685/5685 [==============================] - 111s 20ms/step - loss: 1.8737 - accuracy: 0.5184 - val_loss: 2.2790 - val_accuracy: 0.4451\n",
            "Epoch 7/20\n",
            "5685/5685 [==============================] - 111s 20ms/step - loss: 1.8392 - accuracy: 0.5249 - val_loss: 2.2952 - val_accuracy: 0.4426\n",
            "Epoch 8/20\n",
            "5685/5685 [==============================] - 111s 20ms/step - loss: 1.8084 - accuracy: 0.5308 - val_loss: 2.3127 - val_accuracy: 0.4398\n",
            "Epoch 9/20\n",
            "5685/5685 [==============================] - 111s 20ms/step - loss: 1.7804 - accuracy: 0.5362 - val_loss: 2.3572 - val_accuracy: 0.4380\n",
            "Epoch 10/20\n",
            "5685/5685 [==============================] - 111s 20ms/step - loss: 1.7548 - accuracy: 0.5418 - val_loss: 2.3515 - val_accuracy: 0.4403\n",
            "Epoch 11/20\n",
            "5685/5685 [==============================] - 111s 20ms/step - loss: 1.7293 - accuracy: 0.5466 - val_loss: 2.4087 - val_accuracy: 0.4354\n",
            "Epoch 12/20\n",
            "5685/5685 [==============================] - 111s 20ms/step - loss: 1.7081 - accuracy: 0.5511 - val_loss: 2.4621 - val_accuracy: 0.4338\n",
            "Epoch 13/20\n",
            "5685/5685 [==============================] - 111s 20ms/step - loss: 1.6863 - accuracy: 0.5556 - val_loss: 2.4631 - val_accuracy: 0.4299\n",
            "Epoch 14/20\n",
            "5685/5685 [==============================] - 111s 20ms/step - loss: 1.6671 - accuracy: 0.5597 - val_loss: 2.4559 - val_accuracy: 0.4293\n",
            "Epoch 15/20\n",
            "5685/5685 [==============================] - 111s 20ms/step - loss: 1.6487 - accuracy: 0.5633 - val_loss: 2.5055 - val_accuracy: 0.4275\n",
            "Epoch 16/20\n",
            "5685/5685 [==============================] - 111s 20ms/step - loss: 1.6320 - accuracy: 0.5668 - val_loss: 2.5374 - val_accuracy: 0.4286\n",
            "Epoch 17/20\n",
            "5685/5685 [==============================] - 111s 20ms/step - loss: 1.6157 - accuracy: 0.5707 - val_loss: 2.4925 - val_accuracy: 0.4261\n",
            "Epoch 18/20\n",
            "5685/5685 [==============================] - 111s 20ms/step - loss: 1.6006 - accuracy: 0.5736 - val_loss: 2.6145 - val_accuracy: 0.4264\n",
            "Epoch 19/20\n",
            "5685/5685 [==============================] - 112s 20ms/step - loss: 1.5856 - accuracy: 0.5765 - val_loss: 2.5380 - val_accuracy: 0.4229\n",
            "Epoch 20/20\n",
            "5685/5685 [==============================] - 111s 20ms/step - loss: 1.5711 - accuracy: 0.5793 - val_loss: 2.6132 - val_accuracy: 0.4169\n"
          ]
        },
        {
          "output_type": "execute_result",
          "data": {
            "text/plain": [
              "<keras.callbacks.History at 0x7f17f12d7850>"
            ]
          },
          "metadata": {},
          "execution_count": 14
        }
      ],
      "source": [
        "model.fit(boards.reshape(list(boards.shape)), actions, epochs=20, validation_split=0.10, verbose=1, batch_size=128)"
      ]
    },
    {
      "cell_type": "code",
      "execution_count": 15,
      "metadata": {
        "id": "_qtCZd2NZpxv"
      },
      "outputs": [],
      "source": [
        "model.save('./full.h5')"
      ]
    },
    {
      "cell_type": "markdown",
      "source": [
        "### Plot training"
      ],
      "metadata": {
        "id": "cXduue9kIbu0"
      }
    },
    {
      "cell_type": "code",
      "source": [
        "epoch_data = pd.read_csv('./training_full.csv')\n",
        "epoch_data"
      ],
      "metadata": {
        "colab": {
          "base_uri": "https://localhost:8080/",
          "height": 677
        },
        "id": "m29cJ8IoIp_n",
        "outputId": "fc704b8d-90aa-4fce-d8c6-9d82bdbe5533"
      },
      "execution_count": 31,
      "outputs": [
        {
          "output_type": "execute_result",
          "data": {
            "text/plain": [
              "    epoch  train_loss  train_accuracy\n",
              "0       1      2.1703          0.4622\n",
              "1       2      2.0737          0.4807\n",
              "2       3      2.0081          0.4926\n",
              "3       4      1.9556          0.5024\n",
              "4       5      1.9120          0.5104\n",
              "5       6      1.8737          0.5184\n",
              "6       7      1.8392          0.5249\n",
              "7       8      1.8084          0.5308\n",
              "8       9      1.7804          0.5362\n",
              "9      10      1.7548          0.5418\n",
              "10     11      1.7293          0.5466\n",
              "11     12      1.7081          0.5511\n",
              "12     13      1.6863          0.5556\n",
              "13     14      1.6671          0.5597\n",
              "14     15      1.6487          0.5633\n",
              "15     16      1.6320          0.5668\n",
              "16     17      1.6157          0.5707\n",
              "17     18      1.6006          0.5736\n",
              "18     19      1.5856          0.5765\n",
              "19     20      1.5711          0.5793"
            ],
            "text/html": [
              "\n",
              "  <div id=\"df-de00dfa1-2668-4094-8fd2-efc4f5efea89\">\n",
              "    <div class=\"colab-df-container\">\n",
              "      <div>\n",
              "<style scoped>\n",
              "    .dataframe tbody tr th:only-of-type {\n",
              "        vertical-align: middle;\n",
              "    }\n",
              "\n",
              "    .dataframe tbody tr th {\n",
              "        vertical-align: top;\n",
              "    }\n",
              "\n",
              "    .dataframe thead th {\n",
              "        text-align: right;\n",
              "    }\n",
              "</style>\n",
              "<table border=\"1\" class=\"dataframe\">\n",
              "  <thead>\n",
              "    <tr style=\"text-align: right;\">\n",
              "      <th></th>\n",
              "      <th>epoch</th>\n",
              "      <th>train_loss</th>\n",
              "      <th>train_accuracy</th>\n",
              "    </tr>\n",
              "  </thead>\n",
              "  <tbody>\n",
              "    <tr>\n",
              "      <th>0</th>\n",
              "      <td>1</td>\n",
              "      <td>2.1703</td>\n",
              "      <td>0.4622</td>\n",
              "    </tr>\n",
              "    <tr>\n",
              "      <th>1</th>\n",
              "      <td>2</td>\n",
              "      <td>2.0737</td>\n",
              "      <td>0.4807</td>\n",
              "    </tr>\n",
              "    <tr>\n",
              "      <th>2</th>\n",
              "      <td>3</td>\n",
              "      <td>2.0081</td>\n",
              "      <td>0.4926</td>\n",
              "    </tr>\n",
              "    <tr>\n",
              "      <th>3</th>\n",
              "      <td>4</td>\n",
              "      <td>1.9556</td>\n",
              "      <td>0.5024</td>\n",
              "    </tr>\n",
              "    <tr>\n",
              "      <th>4</th>\n",
              "      <td>5</td>\n",
              "      <td>1.9120</td>\n",
              "      <td>0.5104</td>\n",
              "    </tr>\n",
              "    <tr>\n",
              "      <th>5</th>\n",
              "      <td>6</td>\n",
              "      <td>1.8737</td>\n",
              "      <td>0.5184</td>\n",
              "    </tr>\n",
              "    <tr>\n",
              "      <th>6</th>\n",
              "      <td>7</td>\n",
              "      <td>1.8392</td>\n",
              "      <td>0.5249</td>\n",
              "    </tr>\n",
              "    <tr>\n",
              "      <th>7</th>\n",
              "      <td>8</td>\n",
              "      <td>1.8084</td>\n",
              "      <td>0.5308</td>\n",
              "    </tr>\n",
              "    <tr>\n",
              "      <th>8</th>\n",
              "      <td>9</td>\n",
              "      <td>1.7804</td>\n",
              "      <td>0.5362</td>\n",
              "    </tr>\n",
              "    <tr>\n",
              "      <th>9</th>\n",
              "      <td>10</td>\n",
              "      <td>1.7548</td>\n",
              "      <td>0.5418</td>\n",
              "    </tr>\n",
              "    <tr>\n",
              "      <th>10</th>\n",
              "      <td>11</td>\n",
              "      <td>1.7293</td>\n",
              "      <td>0.5466</td>\n",
              "    </tr>\n",
              "    <tr>\n",
              "      <th>11</th>\n",
              "      <td>12</td>\n",
              "      <td>1.7081</td>\n",
              "      <td>0.5511</td>\n",
              "    </tr>\n",
              "    <tr>\n",
              "      <th>12</th>\n",
              "      <td>13</td>\n",
              "      <td>1.6863</td>\n",
              "      <td>0.5556</td>\n",
              "    </tr>\n",
              "    <tr>\n",
              "      <th>13</th>\n",
              "      <td>14</td>\n",
              "      <td>1.6671</td>\n",
              "      <td>0.5597</td>\n",
              "    </tr>\n",
              "    <tr>\n",
              "      <th>14</th>\n",
              "      <td>15</td>\n",
              "      <td>1.6487</td>\n",
              "      <td>0.5633</td>\n",
              "    </tr>\n",
              "    <tr>\n",
              "      <th>15</th>\n",
              "      <td>16</td>\n",
              "      <td>1.6320</td>\n",
              "      <td>0.5668</td>\n",
              "    </tr>\n",
              "    <tr>\n",
              "      <th>16</th>\n",
              "      <td>17</td>\n",
              "      <td>1.6157</td>\n",
              "      <td>0.5707</td>\n",
              "    </tr>\n",
              "    <tr>\n",
              "      <th>17</th>\n",
              "      <td>18</td>\n",
              "      <td>1.6006</td>\n",
              "      <td>0.5736</td>\n",
              "    </tr>\n",
              "    <tr>\n",
              "      <th>18</th>\n",
              "      <td>19</td>\n",
              "      <td>1.5856</td>\n",
              "      <td>0.5765</td>\n",
              "    </tr>\n",
              "    <tr>\n",
              "      <th>19</th>\n",
              "      <td>20</td>\n",
              "      <td>1.5711</td>\n",
              "      <td>0.5793</td>\n",
              "    </tr>\n",
              "  </tbody>\n",
              "</table>\n",
              "</div>\n",
              "      <button class=\"colab-df-convert\" onclick=\"convertToInteractive('df-de00dfa1-2668-4094-8fd2-efc4f5efea89')\"\n",
              "              title=\"Convert this dataframe to an interactive table.\"\n",
              "              style=\"display:none;\">\n",
              "        \n",
              "  <svg xmlns=\"http://www.w3.org/2000/svg\" height=\"24px\"viewBox=\"0 0 24 24\"\n",
              "       width=\"24px\">\n",
              "    <path d=\"M0 0h24v24H0V0z\" fill=\"none\"/>\n",
              "    <path d=\"M18.56 5.44l.94 2.06.94-2.06 2.06-.94-2.06-.94-.94-2.06-.94 2.06-2.06.94zm-11 1L8.5 8.5l.94-2.06 2.06-.94-2.06-.94L8.5 2.5l-.94 2.06-2.06.94zm10 10l.94 2.06.94-2.06 2.06-.94-2.06-.94-.94-2.06-.94 2.06-2.06.94z\"/><path d=\"M17.41 7.96l-1.37-1.37c-.4-.4-.92-.59-1.43-.59-.52 0-1.04.2-1.43.59L10.3 9.45l-7.72 7.72c-.78.78-.78 2.05 0 2.83L4 21.41c.39.39.9.59 1.41.59.51 0 1.02-.2 1.41-.59l7.78-7.78 2.81-2.81c.8-.78.8-2.07 0-2.86zM5.41 20L4 18.59l7.72-7.72 1.47 1.35L5.41 20z\"/>\n",
              "  </svg>\n",
              "      </button>\n",
              "      \n",
              "  <style>\n",
              "    .colab-df-container {\n",
              "      display:flex;\n",
              "      flex-wrap:wrap;\n",
              "      gap: 12px;\n",
              "    }\n",
              "\n",
              "    .colab-df-convert {\n",
              "      background-color: #E8F0FE;\n",
              "      border: none;\n",
              "      border-radius: 50%;\n",
              "      cursor: pointer;\n",
              "      display: none;\n",
              "      fill: #1967D2;\n",
              "      height: 32px;\n",
              "      padding: 0 0 0 0;\n",
              "      width: 32px;\n",
              "    }\n",
              "\n",
              "    .colab-df-convert:hover {\n",
              "      background-color: #E2EBFA;\n",
              "      box-shadow: 0px 1px 2px rgba(60, 64, 67, 0.3), 0px 1px 3px 1px rgba(60, 64, 67, 0.15);\n",
              "      fill: #174EA6;\n",
              "    }\n",
              "\n",
              "    [theme=dark] .colab-df-convert {\n",
              "      background-color: #3B4455;\n",
              "      fill: #D2E3FC;\n",
              "    }\n",
              "\n",
              "    [theme=dark] .colab-df-convert:hover {\n",
              "      background-color: #434B5C;\n",
              "      box-shadow: 0px 1px 3px 1px rgba(0, 0, 0, 0.15);\n",
              "      filter: drop-shadow(0px 1px 2px rgba(0, 0, 0, 0.3));\n",
              "      fill: #FFFFFF;\n",
              "    }\n",
              "  </style>\n",
              "\n",
              "      <script>\n",
              "        const buttonEl =\n",
              "          document.querySelector('#df-de00dfa1-2668-4094-8fd2-efc4f5efea89 button.colab-df-convert');\n",
              "        buttonEl.style.display =\n",
              "          google.colab.kernel.accessAllowed ? 'block' : 'none';\n",
              "\n",
              "        async function convertToInteractive(key) {\n",
              "          const element = document.querySelector('#df-de00dfa1-2668-4094-8fd2-efc4f5efea89');\n",
              "          const dataTable =\n",
              "            await google.colab.kernel.invokeFunction('convertToInteractive',\n",
              "                                                     [key], {});\n",
              "          if (!dataTable) return;\n",
              "\n",
              "          const docLinkHtml = 'Like what you see? Visit the ' +\n",
              "            '<a target=\"_blank\" href=https://colab.research.google.com/notebooks/data_table.ipynb>data table notebook</a>'\n",
              "            + ' to learn more about interactive tables.';\n",
              "          element.innerHTML = '';\n",
              "          dataTable['output_type'] = 'display_data';\n",
              "          await google.colab.output.renderOutput(dataTable, element);\n",
              "          const docLink = document.createElement('div');\n",
              "          docLink.innerHTML = docLinkHtml;\n",
              "          element.appendChild(docLink);\n",
              "        }\n",
              "      </script>\n",
              "    </div>\n",
              "  </div>\n",
              "  "
            ]
          },
          "metadata": {},
          "execution_count": 31
        }
      ]
    },
    {
      "cell_type": "code",
      "source": [
        "fig, ax1 = plt.subplots()\n",
        "color = 'tab:red'\n",
        "ax1.set_xlabel('epoch')\n",
        "ax1.set_ylabel('training loss', color=color)\n",
        "ax1.plot(epoch_data['epoch'], epoch_data['train_loss'], color=color)\n",
        "ax1.tick_params(axis='y', labelcolor=color)\n",
        "\n",
        "ax2 = ax1.twinx()  # instantiate a second axes that shares the same x-axis\n",
        "\n",
        "color = 'tab:blue'\n",
        "ax2.set_ylabel('training accuracy', color=color)  # we already handled the x-label with ax1\n",
        "ax2.plot(epoch_data['epoch'], epoch_data['train_accuracy'], color=color)\n",
        "ax2.tick_params(axis='y', labelcolor=color)\n",
        "plt.xticks(np.arange(min(epoch_data['epoch']), max(epoch_data['epoch'])+1, 2.0))\n",
        "\n",
        "fig.tight_layout()  # otherwise the right y-label is slightly clipped\n",
        "plt.title('Training over Epoch')\n",
        "# plt.savefig('q1.png')\n",
        "plt.show()"
      ],
      "metadata": {
        "colab": {
          "base_uri": "https://localhost:8080/",
          "height": 309
        },
        "id": "4FV2_RBYPesi",
        "outputId": "a43e7995-bf5c-4428-fa7c-225b9b8edf54"
      },
      "execution_count": 33,
      "outputs": [
        {
          "output_type": "display_data",
          "data": {
            "text/plain": [
              "<Figure size 432x288 with 2 Axes>"
            ],
            "image/png": "[encoded data removed]"
          },
          "metadata": {
            "needs_background": "light"
          }
        }
      ]
    },
    {
      "cell_type": "markdown",
      "source": [
        "## Load Model(s)"
      ],
      "metadata": {
        "id": "I-UBTPOsH5YE"
      }
    },
    {
      "cell_type": "code",
      "execution_count": 19,
      "metadata": {
        "id": "ELt0HD8qguhC"
      },
      "outputs": [],
      "source": [
        "model = models.load_model('./full.h5')\n",
        "hexai_model = models.load_model('./best_so_far_dropout.h5')"
      ]
    },
    {
      "cell_type": "markdown",
      "source": [
        "## Gather winrates"
      ],
      "metadata": {
        "id": "BWSZtID_GXyX"
      }
    },
    {
      "cell_type": "code",
      "source": [
        "# num games to simulate\n",
        "n=100"
      ],
      "metadata": {
        "id": "WgKZ2SBnNR6r"
      },
      "execution_count": 28,
      "outputs": []
    },
    {
      "cell_type": "markdown",
      "source": [
        "### Model (White) vs Random"
      ],
      "metadata": {
        "id": "jKL-QOMyGeFx"
      }
    },
    {
      "cell_type": "code",
      "execution_count": 34,
      "metadata": {
        "colab": {
          "base_uri": "https://localhost:8080/"
        },
        "id": "8y_E1kL8d6mP",
        "outputId": "46132614-ffc9-4717-b8d0-5fcba4a5acd5"
      },
      "outputs": [
        {
          "output_type": "stream",
          "name": "stdout",
          "text": [
            "0.44\n"
          ]
        }
      ],
      "source": [
        "p1 = player.ModelPlayer(move_generator.ExhaustiveGenerator(), move_evaluator.ModelMoveEvaluator(model))\n",
        "\n",
        "wc_r_w = 0\n",
        "for i in range(n):\n",
        "  game = Game(RandomPlayer(), p1)\n",
        "  movelist, winner = game.play(verbose=False)\n",
        "  if winner=='white':\n",
        "    wc_r_w+=1\n",
        "print(wc_r_w/n)"
      ]
    },
    {
      "cell_type": "markdown",
      "source": [
        "### Model (Black) vs Random"
      ],
      "metadata": {
        "id": "XP4FG5iIGkJW"
      }
    },
    {
      "cell_type": "code",
      "execution_count": 35,
      "metadata": {
        "colab": {
          "base_uri": "https://localhost:8080/"
        },
        "id": "-7koblaz_uRm",
        "outputId": "07ede347-c906-4290-c0b2-4759127c07dc"
      },
      "outputs": [
        {
          "output_type": "stream",
          "name": "stdout",
          "text": [
            "0.65\n"
          ]
        }
      ],
      "source": [
        "wc_r_b = 0\n",
        "for i in range(n):\n",
        "  game = Game(p1, RandomPlayer())\n",
        "  movelist, winner = game.play(verbose=False)\n",
        "  if winner=='black':\n",
        "    wc_r_b+=1\n",
        "print(wc_r_b/n)\n"
      ]
    },
    {
      "cell_type": "markdown",
      "source": [
        "### Model (White) vs HexAi"
      ],
      "metadata": {
        "id": "HJ7LEZjXGopY"
      }
    },
    {
      "cell_type": "code",
      "execution_count": 36,
      "metadata": {
        "colab": {
          "base_uri": "https://localhost:8080/"
        },
        "id": "whcgiqBD9QhN",
        "outputId": "c093b103-389e-406e-8390-bb8322b02bfd"
      },
      "outputs": [
        {
          "output_type": "stream",
          "name": "stdout",
          "text": [
            "0.85\n"
          ]
        }
      ],
      "source": [
        "p2 = player.ModelPlayer(move_generator.ExhaustiveGenerator(), move_evaluator.SimpleMoveEvaluator(hexai_model))\n",
        "\n",
        "\n",
        "wc_hai_w = 0\n",
        "for i in range(n):\n",
        "  game = Game(p2, p1)\n",
        "  movelist, winner = game.play(verbose=False)\n",
        "  if winner=='white':\n",
        "    wc_hai_w+=1\n",
        "print(wc_hai_w/n)"
      ]
    },
    {
      "cell_type": "markdown",
      "source": [
        "### Model (Black) vs HexAi"
      ],
      "metadata": {
        "id": "QFkWjBlPGt3j"
      }
    },
    {
      "cell_type": "code",
      "execution_count": 39,
      "metadata": {
        "colab": {
          "base_uri": "https://localhost:8080/"
        },
        "id": "A3jfPXTD9TXb",
        "outputId": "3eb64dff-3950-4921-d5c4-6e87ebedf29a"
      },
      "outputs": [
        {
          "output_type": "stream",
          "name": "stdout",
          "text": [
            "0.0\n"
          ]
        }
      ],
      "source": [
        "wc_hai_b = 0\n",
        "for i in range(n):\n",
        "  game = Game(p1, p2)\n",
        "  movelist, winner = game.play(verbose=False)\n",
        "  if winner=='black':\n",
        "    wc_hai_b+=1\n",
        "print(wc_hai_b/n)"
      ]
    },
    {
      "cell_type": "markdown",
      "source": [
        "## Play Demo"
      ],
      "metadata": {
        "id": "vj_RBCRjG2H4"
      }
    },
    {
      "cell_type": "markdown",
      "source": [
        "### vs Model (Black)"
      ],
      "metadata": {
        "id": "YUL2o2VVG-ge"
      }
    },
    {
      "cell_type": "code",
      "source": [
        "game = Game(p1, HumanPlayer())\n",
        "movelist, winner = game.play(verbose=True)"
      ],
      "metadata": {
        "id": "44delTwCkNaI"
      },
      "execution_count": null,
      "outputs": []
    },
    {
      "cell_type": "markdown",
      "source": [
        "### vs Model (White)"
      ],
      "metadata": {
        "id": "H4vPF9z1HSf5"
      }
    },
    {
      "cell_type": "code",
      "source": [
        "game = Game(HumanPlayer(), p1)\n",
        "movelist, winner = game.play(verbose=True)"
      ],
      "metadata": {
        "id": "0lqimSIYHNM-"
      },
      "execution_count": null,
      "outputs": []
    },
    {
      "cell_type": "code",
      "source": [
        ""
      ],
      "metadata": {
        "id": "HVZ6mThIIjsz"
      },
      "execution_count": null,
      "outputs": []
    }
  ],
  "metadata": {
    "accelerator": "GPU",
    "colab": {
      "collapsed_sections": [],
      "name": "302model.ipynb",
      "provenance": [],
      "machine_shape": "hm"
    },
    "kernelspec": {
      "display_name": "Python 3",
      "name": "python3"
    },
    "language_info": {
      "name": "python"
    }
  },
  "nbformat": 4,
  "nbformat_minor": 0
}